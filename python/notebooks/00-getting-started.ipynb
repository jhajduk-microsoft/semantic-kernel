{
 "cells": [
  {
   "attachments": {},
   "cell_type": "markdown",
   "metadata": {},
   "source": [
    "# Setup\n",
    "\n",
    "**Step 1**: Import Semantic Kernel SDK from pypi.org"
   ]
  },
  {
   "cell_type": "code",
   "execution_count": 36,
   "metadata": {},
   "outputs": [
    {
     "name": "stdout",
     "output_type": "stream",
     "text": [
      "Defaulting to user installation because normal site-packages is not writeable\n",
      "Requirement already satisfied: semantic-kernel==0.3.10.dev0 in /Users/jenniferhajduk/Library/Python/3.9/lib/python/site-packages (0.3.10.dev0)\n",
      "Requirement already satisfied: aiofiles<24.0.0,>=23.1.0 in /Users/jenniferhajduk/Library/Python/3.9/lib/python/site-packages (from semantic-kernel==0.3.10.dev0) (23.2.1)\n",
      "Requirement already satisfied: prance<24.0.0.0,>=23.6.21.0 in /Users/jenniferhajduk/Library/Python/3.9/lib/python/site-packages (from semantic-kernel==0.3.10.dev0) (23.6.21.0)\n",
      "Requirement already satisfied: openapi_core<0.19.0,>=0.18.0 in /Users/jenniferhajduk/Library/Python/3.9/lib/python/site-packages (from semantic-kernel==0.3.10.dev0) (0.18.1)\n",
      "Requirement already satisfied: regex<2024.0.0,>=2023.6.3 in /Users/jenniferhajduk/Library/Python/3.9/lib/python/site-packages (from semantic-kernel==0.3.10.dev0) (2023.10.3)\n",
      "Requirement already satisfied: python-dotenv==1.0.0 in /Users/jenniferhajduk/Library/Python/3.9/lib/python/site-packages (from semantic-kernel==0.3.10.dev0) (1.0.0)\n",
      "Requirement already satisfied: numpy<2.0.0,>=1.24.2 in /Users/jenniferhajduk/Library/Python/3.9/lib/python/site-packages (from semantic-kernel==0.3.10.dev0) (1.26.1)\n",
      "Requirement already satisfied: openai<0.28.0,>=0.27.0 in /Users/jenniferhajduk/Library/Python/3.9/lib/python/site-packages (from semantic-kernel==0.3.10.dev0) (0.27.10)\n",
      "Requirement already satisfied: pydantic<2 in /Users/jenniferhajduk/Library/Python/3.9/lib/python/site-packages (from semantic-kernel==0.3.10.dev0) (1.10.13)\n",
      "Requirement already satisfied: requests>=2.20 in /Users/jenniferhajduk/Library/Python/3.9/lib/python/site-packages (from openai<0.28.0,>=0.27.0->semantic-kernel==0.3.10.dev0) (2.31.0)\n",
      "Requirement already satisfied: aiohttp in /Users/jenniferhajduk/Library/Python/3.9/lib/python/site-packages (from openai<0.28.0,>=0.27.0->semantic-kernel==0.3.10.dev0) (3.8.6)\n",
      "Requirement already satisfied: tqdm in /Users/jenniferhajduk/Library/Python/3.9/lib/python/site-packages (from openai<0.28.0,>=0.27.0->semantic-kernel==0.3.10.dev0) (4.66.1)\n",
      "Requirement already satisfied: more-itertools in /Users/jenniferhajduk/Library/Python/3.9/lib/python/site-packages (from openapi_core<0.19.0,>=0.18.0->semantic-kernel==0.3.10.dev0) (10.1.0)\n",
      "Requirement already satisfied: jsonschema-spec<0.3.0,>=0.2.3 in /Users/jenniferhajduk/Library/Python/3.9/lib/python/site-packages (from openapi_core<0.19.0,>=0.18.0->semantic-kernel==0.3.10.dev0) (0.2.4)\n",
      "Requirement already satisfied: openapi-schema-validator<0.7.0,>=0.6.0 in /Users/jenniferhajduk/Library/Python/3.9/lib/python/site-packages (from openapi_core<0.19.0,>=0.18.0->semantic-kernel==0.3.10.dev0) (0.6.2)\n",
      "Requirement already satisfied: parse in /Users/jenniferhajduk/Library/Python/3.9/lib/python/site-packages (from openapi_core<0.19.0,>=0.18.0->semantic-kernel==0.3.10.dev0) (1.19.1)\n",
      "Requirement already satisfied: asgiref<4.0.0,>=3.6.0 in /Users/jenniferhajduk/Library/Python/3.9/lib/python/site-packages (from openapi_core<0.19.0,>=0.18.0->semantic-kernel==0.3.10.dev0) (3.7.2)\n",
      "Requirement already satisfied: openapi-spec-validator<0.7.0,>=0.6.0 in /Users/jenniferhajduk/Library/Python/3.9/lib/python/site-packages (from openapi_core<0.19.0,>=0.18.0->semantic-kernel==0.3.10.dev0) (0.6.0)\n",
      "Requirement already satisfied: isodate in /Users/jenniferhajduk/Library/Python/3.9/lib/python/site-packages (from openapi_core<0.19.0,>=0.18.0->semantic-kernel==0.3.10.dev0) (0.6.1)\n",
      "Requirement already satisfied: jsonschema<5.0.0,>=4.18.0 in /Users/jenniferhajduk/Library/Python/3.9/lib/python/site-packages (from openapi_core<0.19.0,>=0.18.0->semantic-kernel==0.3.10.dev0) (4.19.2)\n",
      "Requirement already satisfied: werkzeug in /Users/jenniferhajduk/Library/Python/3.9/lib/python/site-packages (from openapi_core<0.19.0,>=0.18.0->semantic-kernel==0.3.10.dev0) (3.0.1)\n",
      "Requirement already satisfied: typing-extensions>=4 in /Users/jenniferhajduk/Library/Python/3.9/lib/python/site-packages (from asgiref<4.0.0,>=3.6.0->openapi_core<0.19.0,>=0.18.0->semantic-kernel==0.3.10.dev0) (4.8.0)\n",
      "Requirement already satisfied: referencing>=0.28.4 in /Users/jenniferhajduk/Library/Python/3.9/lib/python/site-packages (from jsonschema<5.0.0,>=4.18.0->openapi_core<0.19.0,>=0.18.0->semantic-kernel==0.3.10.dev0) (0.30.2)\n",
      "Requirement already satisfied: jsonschema-specifications>=2023.03.6 in /Users/jenniferhajduk/Library/Python/3.9/lib/python/site-packages (from jsonschema<5.0.0,>=4.18.0->openapi_core<0.19.0,>=0.18.0->semantic-kernel==0.3.10.dev0) (2023.7.1)\n",
      "Requirement already satisfied: rpds-py>=0.7.1 in /Users/jenniferhajduk/Library/Python/3.9/lib/python/site-packages (from jsonschema<5.0.0,>=4.18.0->openapi_core<0.19.0,>=0.18.0->semantic-kernel==0.3.10.dev0) (0.12.0)\n",
      "Requirement already satisfied: attrs>=22.2.0 in /Users/jenniferhajduk/Library/Python/3.9/lib/python/site-packages (from jsonschema<5.0.0,>=4.18.0->openapi_core<0.19.0,>=0.18.0->semantic-kernel==0.3.10.dev0) (23.1.0)\n",
      "Requirement already satisfied: PyYAML>=5.1 in /Users/jenniferhajduk/Library/Python/3.9/lib/python/site-packages (from jsonschema-spec<0.3.0,>=0.2.3->openapi_core<0.19.0,>=0.18.0->semantic-kernel==0.3.10.dev0) (6.0.1)\n",
      "Requirement already satisfied: pathable<0.5.0,>=0.4.1 in /Users/jenniferhajduk/Library/Python/3.9/lib/python/site-packages (from jsonschema-spec<0.3.0,>=0.2.3->openapi_core<0.19.0,>=0.18.0->semantic-kernel==0.3.10.dev0) (0.4.3)\n",
      "Requirement already satisfied: rfc3339-validator in /Users/jenniferhajduk/Library/Python/3.9/lib/python/site-packages (from openapi-schema-validator<0.7.0,>=0.6.0->openapi_core<0.19.0,>=0.18.0->semantic-kernel==0.3.10.dev0) (0.1.4)\n",
      "Requirement already satisfied: lazy-object-proxy<2.0.0,>=1.7.1 in /Users/jenniferhajduk/Library/Python/3.9/lib/python/site-packages (from openapi-spec-validator<0.7.0,>=0.6.0->openapi_core<0.19.0,>=0.18.0->semantic-kernel==0.3.10.dev0) (1.9.0)\n",
      "Requirement already satisfied: ruamel.yaml>=0.17.10 in /Users/jenniferhajduk/Library/Python/3.9/lib/python/site-packages (from prance<24.0.0.0,>=23.6.21.0->semantic-kernel==0.3.10.dev0) (0.18.5)\n",
      "Requirement already satisfied: chardet>=3.0 in /Users/jenniferhajduk/Library/Python/3.9/lib/python/site-packages (from prance<24.0.0.0,>=23.6.21.0->semantic-kernel==0.3.10.dev0) (5.2.0)\n",
      "Requirement already satisfied: six~=1.15 in /Library/Developer/CommandLineTools/Library/Frameworks/Python3.framework/Versions/3.9/lib/python3.9/site-packages (from prance<24.0.0.0,>=23.6.21.0->semantic-kernel==0.3.10.dev0) (1.15.0)\n",
      "Requirement already satisfied: packaging>=21.3 in /Users/jenniferhajduk/Library/Python/3.9/lib/python/site-packages (from prance<24.0.0.0,>=23.6.21.0->semantic-kernel==0.3.10.dev0) (23.2)\n",
      "Requirement already satisfied: certifi>=2017.4.17 in /Users/jenniferhajduk/Library/Python/3.9/lib/python/site-packages (from requests>=2.20->openai<0.28.0,>=0.27.0->semantic-kernel==0.3.10.dev0) (2023.7.22)\n",
      "Requirement already satisfied: urllib3<3,>=1.21.1 in /Users/jenniferhajduk/Library/Python/3.9/lib/python/site-packages (from requests>=2.20->openai<0.28.0,>=0.27.0->semantic-kernel==0.3.10.dev0) (2.0.7)\n",
      "Requirement already satisfied: idna<4,>=2.5 in /Users/jenniferhajduk/Library/Python/3.9/lib/python/site-packages (from requests>=2.20->openai<0.28.0,>=0.27.0->semantic-kernel==0.3.10.dev0) (3.4)\n",
      "Requirement already satisfied: charset-normalizer<4,>=2 in /Users/jenniferhajduk/Library/Python/3.9/lib/python/site-packages (from requests>=2.20->openai<0.28.0,>=0.27.0->semantic-kernel==0.3.10.dev0) (3.3.2)\n",
      "Requirement already satisfied: ruamel.yaml.clib>=0.2.7 in /Users/jenniferhajduk/Library/Python/3.9/lib/python/site-packages (from ruamel.yaml>=0.17.10->prance<24.0.0.0,>=23.6.21.0->semantic-kernel==0.3.10.dev0) (0.2.8)\n",
      "Requirement already satisfied: multidict<7.0,>=4.5 in /Users/jenniferhajduk/Library/Python/3.9/lib/python/site-packages (from aiohttp->openai<0.28.0,>=0.27.0->semantic-kernel==0.3.10.dev0) (6.0.4)\n",
      "Requirement already satisfied: yarl<2.0,>=1.0 in /Users/jenniferhajduk/Library/Python/3.9/lib/python/site-packages (from aiohttp->openai<0.28.0,>=0.27.0->semantic-kernel==0.3.10.dev0) (1.9.2)\n",
      "Requirement already satisfied: async-timeout<5.0,>=4.0.0a3 in /Users/jenniferhajduk/Library/Python/3.9/lib/python/site-packages (from aiohttp->openai<0.28.0,>=0.27.0->semantic-kernel==0.3.10.dev0) (4.0.3)\n",
      "Requirement already satisfied: aiosignal>=1.1.2 in /Users/jenniferhajduk/Library/Python/3.9/lib/python/site-packages (from aiohttp->openai<0.28.0,>=0.27.0->semantic-kernel==0.3.10.dev0) (1.3.1)\n",
      "Requirement already satisfied: frozenlist>=1.1.1 in /Users/jenniferhajduk/Library/Python/3.9/lib/python/site-packages (from aiohttp->openai<0.28.0,>=0.27.0->semantic-kernel==0.3.10.dev0) (1.4.0)\n",
      "Requirement already satisfied: MarkupSafe>=2.1.1 in /Users/jenniferhajduk/Library/Python/3.9/lib/python/site-packages (from werkzeug->openapi_core<0.19.0,>=0.18.0->semantic-kernel==0.3.10.dev0) (2.1.3)\n",
      "\u001b[33mWARNING: You are using pip version 21.2.4; however, version 23.3.1 is available.\n",
      "You should consider upgrading via the '/Library/Developer/CommandLineTools/usr/bin/python3 -m pip install --upgrade pip' command.\u001b[0m\n"
     ]
    }
   ],
   "source": [
    "!python3 -m pip install semantic-kernel==0.3.10.dev0"
   ]
  },
  {
   "cell_type": "code",
   "execution_count": 37,
   "metadata": {},
   "outputs": [],
   "source": [
    "import semantic_kernel as sk\n",
    "\n",
    "kernel = sk.Kernel()"
   ]
  },
  {
   "attachments": {},
   "cell_type": "markdown",
   "metadata": {},
   "source": [
    "## Option 1: using OpenAI\n",
    "\n",
    "**Step 2**: Add your [OpenAI Key](https://openai.com/product/) key to a `.env` file in the same folder (org Id only if you have multiple orgs):\n",
    "\n",
    "```\n",
    "OPENAI_API_KEY=\"sk-...\"\n",
    "OPENAI_ORG_ID=\"\"\n",
    "```\n",
    "\n",
    "and add OpenAI Chat Completion to the kernel:"
   ]
  },
  {
   "attachments": {},
   "cell_type": "markdown",
   "metadata": {},
   "source": [
    "## Option 2: using Azure OpenAI\n",
    "\n",
    "**Step 2**: Add your [Azure Open AI Service key](https://learn.microsoft.com/azure/cognitive-services/openai/quickstart?pivots=programming-language-studio) settings to a `.env` file in the same folder:\n",
    "\n",
    "```\n",
    "AZURE_OPENAI_API_KEY=\"...\"\n",
    "AZURE_OPENAI_ENDPOINT=\"https://...\"\n",
    "AZURE_OPENAI_DEPLOYMENT_NAME=\"...\"\n",
    "```\n",
    "\n",
    "and add Azure OpenAI Chat Completion to the kernel:"
   ]
  },
  {
   "cell_type": "code",
   "execution_count": 38,
   "metadata": {},
   "outputs": [
    {
     "data": {
      "text/plain": [
       "<semantic_kernel.kernel.Kernel at 0x11d900460>"
      ]
     },
     "execution_count": 38,
     "metadata": {},
     "output_type": "execute_result"
    }
   ],
   "source": [
    "from semantic_kernel.connectors.ai.open_ai import AzureChatCompletion\n",
    "\n",
    "deployment, api_key, endpoint = sk.azure_openai_settings_from_dot_env()\n",
    "\n",
    "\n",
    "kernel.add_chat_service(\"chat_completion\", AzureChatCompletion(deployment, endpoint, api_key))\n"
   ]
  },
  {
   "attachments": {},
   "cell_type": "markdown",
   "metadata": {},
   "source": [
    "# Run a Semantic Function\n",
    "\n",
    "**Step 3**: Load a Skill and run a semantic function:"
   ]
  },
  {
   "cell_type": "code",
   "execution_count": 39,
   "metadata": {},
   "outputs": [
    {
     "name": "stdout",
     "output_type": "stream",
     "text": [
      "Why did the T-Rex refuse to go on a time travel trip to the future? \n",
      "Because he heard it was a Jurassic world out there!\n"
     ]
    }
   ],
   "source": [
    "skill = kernel.import_semantic_skill_from_directory(\"../../samples/skills\", \"FunSkill\")\n",
    "joke_function = skill[\"Joke\"]\n",
    "\n",
    "print(joke_function(\"time travel to dinosaur age\"))"
   ]
  }
 ],
 "metadata": {
  "kernelspec": {
   "display_name": "Python 3 (ipykernel)",
   "language": "python",
   "name": "python3"
  },
  "language_info": {
   "codemirror_mode": {
    "name": "ipython",
    "version": 3
   },
   "file_extension": ".py",
   "mimetype": "text/x-python",
   "name": "python",
   "nbconvert_exporter": "python",
   "pygments_lexer": "ipython3",
   "version": "3.9.6"
  }
 },
 "nbformat": 4,
 "nbformat_minor": 2
}
